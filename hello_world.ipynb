{
 "cells": [
  {
   "cell_type": "code",
   "execution_count": 2,
   "id": "f32faeef-e9b6-4081-946e-29750cb84988",
   "metadata": {},
   "outputs": [
    {
     "name": "stdout",
     "output_type": "stream",
     "text": [
      "Hello World from Codespaces by Gaby Valenzuela\n"
     ]
    }
   ],
   "source": [
    "print(\"Hello World from Codespaces by Gaby Valenzuela\")"
   ]
  },
  {
   "cell_type": "code",
   "execution_count": null,
   "id": "3c072f3d-f2dd-4487-9f5e-5e97b606a714",
   "metadata": {},
   "outputs": [],
   "source": []
  }
 ],
 "metadata": {
  "kernelspec": {
   "display_name": "Python 3 (ipykernel)",
   "language": "python",
   "name": "python3"
  },
  "language_info": {
   "codemirror_mode": {
    "name": "ipython",
    "version": 3
   },
   "file_extension": ".py",
   "mimetype": "text/x-python",
   "name": "python",
   "nbconvert_exporter": "python",
   "pygments_lexer": "ipython3",
   "version": "3.10.13"
  }
 },
 "nbformat": 4,
 "nbformat_minor": 5
}
